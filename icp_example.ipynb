{
 "cells": [
  {
   "cell_type": "code",
   "execution_count": 181,
   "metadata": {
    "collapsed": true
   },
   "outputs": [],
   "source": [
    "import numpy as np\n",
    "from matplotlib import pyplot as plt\n",
    "from sklearn.neighbors import NearestNeighbors\n",
    "import matplotlib.animation as animation"
   ]
  },
  {
   "cell_type": "code",
   "execution_count": 182,
   "metadata": {
    "collapsed": false
   },
   "outputs": [
    {
     "name": "stdout",
     "output_type": "stream",
     "text": [
      "[[ 0.96619591 -0.25780898]\n",
      " [ 0.25780898  0.96619591]]\n",
      "[ 0.23345619  0.06932891]\n"
     ]
    }
   ],
   "source": [
    "translation = np.random.rand(2)*2\n",
    "a = np.radians(np.random.rand()*20)\n",
    "rotation = np.array([[np.cos(a), -np.sin(a)],\n",
    "                    [np.sin(a), np.cos(a)]])\n",
    "\n",
    "fish = np.loadtxt(\"fish.csv\", delimiter=',')\n",
    "fish_test = np.dot(fish,rotation.T) + translation\n",
    "fish1 = fish[fish[:,0] > -.88,:]\n",
    "fish2 = np.dot(fish[fish[:,0] < .75,:],rotation.T) + translation\n",
    "\n",
    "print rotation\n",
    "print translation"
   ]
  },
  {
   "cell_type": "code",
   "execution_count": 183,
   "metadata": {
    "collapsed": false
   },
   "outputs": [
    {
     "data": {
      "image/png": "[encoded data removed]",
      "text/plain": [
       "<matplotlib.figure.Figure at 0xf17cdd8>"
      ]
     },
     "metadata": {},
     "output_type": "display_data"
    }
   ],
   "source": [
    "plt.plot(fish1[:,0], fish1[:,1], '.r', fish2[:,0], fish2[:,1], '.b')\n",
    "plt.show()"
   ]
  },
  {
   "cell_type": "code",
   "execution_count": 184,
   "metadata": {
    "collapsed": true
   },
   "outputs": [],
   "source": [
    "def transform(moving, R, t):\n",
    "    return moving.dot(R.T) + t"
   ]
  },
  {
   "cell_type": "code",
   "execution_count": 185,
   "metadata": {
    "collapsed": true
   },
   "outputs": [],
   "source": [
    "def fit(fixed, moving):\n",
    "    # returns new moving\n",
    "    # returns R, t\n",
    "    assert fixed.shape == moving.shape\n",
    "    fixed_mean = np.mean(fixed, axis=0)\n",
    "    moving_mean = np.mean(moving, axis=0) \n",
    "    fixed_hat = fixed -  fixed_mean\n",
    "    moving_hat = moving - moving_mean\n",
    "    \n",
    "    YTX = np.dot(moving_hat.T, fixed_hat)\n",
    "    \n",
    "    U, s, V = np.linalg.svd(YTX, full_matrices= True)\n",
    "    R = np.dot(U,V)\n",
    "    t = moving_mean - R.dot(fixed_mean)\n",
    "    \n",
    "    return transform(moving-t,R.T,0), R, t"
   ]
  },
  {
   "cell_type": "code",
   "execution_count": 186,
   "metadata": {
    "collapsed": true
   },
   "outputs": [],
   "source": [
    "def neighbors(fixed, moving):\n",
    "    #find neigbors for moving from fixed set\n",
    "    nn = NearestNeighbors(n_neighbors=1).fit(fixed)\n",
    "    dist, idx = nn.kneighbors(moving)\n",
    "    return fixed[idx[:,0],:]"
   ]
  },
  {
   "cell_type": "code",
   "execution_count": 187,
   "metadata": {
    "collapsed": false
   },
   "outputs": [],
   "source": [
    "def icp(fixed, moving, iterations=1):\n",
    "    #normalize\n",
    "    fixed_mean, fixed_var = np.mean(fixed, axis=0),np.var(fixed,axis=0)\n",
    "    moving_mean, moving_var = np.mean(moving, axis=0),np.var(moving,axis=0)\n",
    "    fixed_hat = (fixed - fixed_mean)\n",
    "    moving_hat = (moving - moving_mean)\n",
    "    \n",
    "    #vars\n",
    "    counter = 0\n",
    "    moving_history = [moving_hat]\n",
    "    \n",
    "    #iterate\n",
    "    for i in range(iterations):\n",
    "        #find correspondence\n",
    "        fixed_hat_subset = neighbors(fixed_hat, moving_hat)\n",
    "        #transform\n",
    "        moving_hat,R,t = fit(fixed_hat_subset, moving_hat)\n",
    "        moving_history.append(moving_hat)\n",
    "    return moving_hat + fixed_mean, moving_history"
   ]
  },
  {
   "cell_type": "code",
   "execution_count": 188,
   "metadata": {
    "collapsed": false
   },
   "outputs": [
    {
     "data": {
      "image/png": "[encoded data removed]",
      "text/plain": [
       "<matplotlib.figure.Figure at 0xf45a1d0>"
      ]
     },
     "metadata": {},
     "output_type": "display_data"
    }
   ],
   "source": [
    "it = 100\n",
    "fish3,fish_history = icp(fish1,fish2, 100)\n",
    "plt.plot(fish1[:,0], fish1[:,1], '.r', fish3[:,0], fish3[:,1], '.b')\n",
    "plt.show()"
   ]
  },
  {
   "cell_type": "code",
   "execution_count": null,
   "metadata": {
    "collapsed": false
   },
   "outputs": [],
   "source": []
  },
  {
   "cell_type": "code",
   "execution_count": null,
   "metadata": {
    "collapsed": false
   },
   "outputs": [],
   "source": []
  },
  {
   "cell_type": "code",
   "execution_count": null,
   "metadata": {
    "collapsed": true
   },
   "outputs": [],
   "source": []
  }
 ],
 "metadata": {
  "kernelspec": {
   "display_name": "Python 2",
   "language": "python",
   "name": "python2"
  },
  "language_info": {
   "codemirror_mode": {
    "name": "ipython",
    "version": 2
   },
   "file_extension": ".py",
   "mimetype": "text/x-python",
   "name": "python",
   "nbconvert_exporter": "python",
   "pygments_lexer": "ipython2",
   "version": "2.7.13"
  }
 },
 "nbformat": 4,
 "nbformat_minor": 2
}
